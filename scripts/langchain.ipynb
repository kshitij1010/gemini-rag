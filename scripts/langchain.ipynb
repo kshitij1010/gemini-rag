{
 "cells": [
  {
   "cell_type": "code",
   "execution_count": null,
   "metadata": {},
   "outputs": [],
   "source": [
    "# https://github.com/drmwnrafi \n",
    "from gemini import Gemini\n",
    "from typing import Any, List, Mapping, Optional\n",
    "from langchain.callbacks.manager import CallbackManagerForLLMRun\n",
    "from langchain.llms.base import LLM\n",
    "\n",
    "cookies = {}\n",
    "\n",
    "class GeminiLLM(LLM):\n",
    "    @property\n",
    "    def _llm_type(self) -> str:\n",
    "        return \"custom\"\n",
    "\n",
    "    def _call(self, prompt: str, stop: Optional[List[str]] = None,run_manager: Optional[CallbackManagerForLLMRun] = None) -> str:\n",
    "        response = Gemini(cookies=cookies).generate_content(prompt)['text']\n",
    "        return response\n",
    "\n",
    "    @property\n",
    "    def _identifying_params(self) -> Mapping[str, Any]:\n",
    "        \"\"\"Get the identifying parameters.\"\"\"\n",
    "        return {}\n",
    "\n",
    "llm = GeminiLLM()\n",
    "\n",
    "llm(\"Who are you?\")\n",
    "\n",
    "\"\"\" \n",
    "Output : I am Bard, a large language model from Google AI. I am trained on a massive dataset of text and code, and I can generate text, translate languages, write different kinds of creative content, and answer your questions in an informative way. I am still under development, but I have learned to perform many kinds of tasks, including\n",
    "\n",
    "* I will try my best to follow your instructions and complete your requests thoughtfully.\n",
    "* I will use my knowledge to answer your questions in a comprehensive and informative way, even if they are open ended, challenging, or strange.\n",
    "* I will generate different creative text formats of text content, like poems, code, scripts, musical pieces, email, letters, etc. I will try my best to fulfill all your requirements.\n",
    "\n",
    "I am excited to be able to help people with their tasks and creative projects, and I hope to learn and grow more over time.\n",
    "\n",
    "What can I help you with today? \n",
    "\"\"\" "
   ]
  }
 ],
 "metadata": {
  "language_info": {
   "name": "python"
  }
 },
 "nbformat": 4,
 "nbformat_minor": 2
}
